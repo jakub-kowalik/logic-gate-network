{
 "cells": [
  {
   "cell_type": "markdown",
   "source": [
    "# Imports"
   ],
   "metadata": {
    "collapsed": false
   }
  },
  {
   "cell_type": "code",
   "execution_count": 9,
   "outputs": [],
   "source": [
    "import numpy as np\n",
    "\n",
    "from src.network import LogicGateNetwork"
   ],
   "metadata": {
    "collapsed": false
   }
  },
  {
   "cell_type": "markdown",
   "source": [
    "# Define network"
   ],
   "metadata": {
    "collapsed": false
   }
  },
  {
   "cell_type": "code",
   "execution_count": 10,
   "outputs": [
    {
     "data": {
      "text/plain": "LogicGateNetwork(input_size:20, output_size:5, layers:\n\tLayer(n_inputs:20, n_outputs:15, \n\t\t gates:\n\t\t\tLogicGate(operator:nor_gate, idx:[ 8 19])\n\t\t\tLogicGate(operator:and_gate, idx:[18 11])\n\t\t\tLogicGate(operator:not_gate, idx:[13  1])\n\t\t\tLogicGate(operator:or_gate, idx:[ 2 10])\n\t\t\tLogicGate(operator:and_gate, idx:[19 13])\n\t\t\tLogicGate(operator:and_gate, idx:[ 2 17])\n\t\t\tLogicGate(operator:nand_gate, idx:[15 17])\n\t\t\tLogicGate(operator:nand_gate, idx:[5 9])\n\t\t\tLogicGate(operator:and_gate, idx:[13 11])\n\t\t\tLogicGate(operator:or_gate, idx:[ 3 17])\n\t\t\tLogicGate(operator:xor_gate, idx:[ 1 18])\n\t\t\tLogicGate(operator:and_gate, idx:[ 3 17])\n\t\t\tLogicGate(operator:not_gate, idx:[18  5])\n\t\t\tLogicGate(operator:nor_gate, idx:[16 19])\n\t\t\tLogicGate(operator:nand_gate, idx:[16 19])\n\t)\n\tLayer(n_inputs:15, n_outputs:10, \n\t\t gates:\n\t\t\tLogicGate(operator:or_gate, idx:[12  7])\n\t\t\tLogicGate(operator:not_gate, idx:[ 1 11])\n\t\t\tLogicGate(operator:nand_gate, idx:[ 4 13])\n\t\t\tLogicGate(operator:xor_gate, idx:[ 1 11])\n\t\t\tLogicGate(operator:or_gate, idx:[11  4])\n\t\t\tLogicGate(operator:xor_gate, idx:[10 12])\n\t\t\tLogicGate(operator:and_gate, idx:[1 5])\n\t\t\tLogicGate(operator:nor_gate, idx:[5 9])\n\t\t\tLogicGate(operator:not_gate, idx:[11 12])\n\t\t\tLogicGate(operator:and_gate, idx:[8 1])\n\t)\n\tLayer(n_inputs:10, n_outputs:5, \n\t\t gates:\n\t\t\tLogicGate(operator:nor_gate, idx:[2 5])\n\t\t\tLogicGate(operator:or_gate, idx:[1 4])\n\t\t\tLogicGate(operator:nor_gate, idx:[1 8])\n\t\t\tLogicGate(operator:and_gate, idx:[1 3])\n\t\t\tLogicGate(operator:nor_gate, idx:[2 5])\n\t)\n)"
     },
     "execution_count": 10,
     "metadata": {},
     "output_type": "execute_result"
    }
   ],
   "source": [
    "logic_gate_network = LogicGateNetwork(input_size=20, output_size=5)\n",
    "\n",
    "logic_gate_network.add_layer(n_outputs=15)\n",
    "logic_gate_network.add_layer(n_outputs=10)\n",
    "logic_gate_network.add_layer(n_outputs=5)\n",
    "\n",
    "logic_gate_network"
   ],
   "metadata": {
    "collapsed": false
   }
  },
  {
   "cell_type": "markdown",
   "source": [
    "# Generate some random data"
   ],
   "metadata": {
    "collapsed": false
   }
  },
  {
   "cell_type": "code",
   "execution_count": 11,
   "outputs": [
    {
     "data": {
      "text/plain": "array([[1, 0, 1, ..., 0, 0, 1],\n       [0, 0, 1, ..., 1, 0, 0],\n       [0, 1, 1, ..., 1, 1, 1],\n       ...,\n       [0, 0, 1, ..., 0, 1, 0],\n       [0, 1, 1, ..., 1, 1, 1],\n       [0, 0, 1, ..., 1, 0, 0]], dtype=int8)"
     },
     "execution_count": 11,
     "metadata": {},
     "output_type": "execute_result"
    }
   ],
   "source": [
    "random_data = (np.random.random((10000, 20)) > 0.5).astype(np.byte)\n",
    "\n",
    "random_data"
   ],
   "metadata": {
    "collapsed": false
   }
  },
  {
   "cell_type": "markdown",
   "source": [
    "# Pass data through network"
   ],
   "metadata": {
    "collapsed": false
   }
  },
  {
   "cell_type": "code",
   "execution_count": 12,
   "outputs": [
    {
     "data": {
      "text/plain": "array([[0, 1, 0, 0, 0],\n       [0, 1, 0, 0, 0],\n       [0, 0, 0, 0, 0],\n       ...,\n       [0, 1, 0, 0, 0],\n       [0, 0, 0, 0, 0],\n       [0, 1, 0, 1, 0]], dtype=int8)"
     },
     "execution_count": 12,
     "metadata": {},
     "output_type": "execute_result"
    }
   ],
   "source": [
    "output = logic_gate_network.predict(random_data)\n",
    "\n",
    "output"
   ],
   "metadata": {
    "collapsed": false
   }
  }
 ],
 "metadata": {
  "kernelspec": {
   "display_name": "Python 3",
   "language": "python",
   "name": "python3"
  },
  "language_info": {
   "codemirror_mode": {
    "name": "ipython",
    "version": 2
   },
   "file_extension": ".py",
   "mimetype": "text/x-python",
   "name": "python",
   "nbconvert_exporter": "python",
   "pygments_lexer": "ipython2",
   "version": "2.7.6"
  }
 },
 "nbformat": 4,
 "nbformat_minor": 0
}

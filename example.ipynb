{
 "cells": [
  {
   "cell_type": "markdown",
   "source": [
    "# Imports"
   ],
   "metadata": {
    "collapsed": false
   }
  },
  {
   "cell_type": "code",
   "execution_count": 1,
   "outputs": [],
   "source": [
    "import numpy as np\n",
    "\n",
    "from src.network import LogicGateNetwork"
   ],
   "metadata": {
    "collapsed": false
   }
  },
  {
   "cell_type": "markdown",
   "source": [
    "# Define network"
   ],
   "metadata": {
    "collapsed": false
   }
  },
  {
   "cell_type": "code",
   "execution_count": 2,
   "outputs": [
    {
     "data": {
      "text/plain": "LogicGateNetwork(input_size:20, output_size:5, layers:\n\tLayer(n_inputs:20, n_outputs:15, \n\t\t gates:\n\t\t\tLogicGate(operator:xor_gate, idx:[ 6 17])\n\t\t\tLogicGate(operator:nor_gate, idx:[12 19])\n\t\t\tLogicGate(operator:nand_gate, idx:[1 0])\n\t\t\tLogicGate(operator:xor_gate, idx:[17 19])\n\t\t\tLogicGate(operator:xor_gate, idx:[ 9 10])\n\t\t\tLogicGate(operator:not_gate, idx:[ 5 10])\n\t\t\tLogicGate(operator:nor_gate, idx:[ 1 16])\n\t\t\tLogicGate(operator:or_gate, idx:[18  7])\n\t\t\tLogicGate(operator:not_gate, idx:[19  7])\n\t\t\tLogicGate(operator:and_gate, idx:[ 7 13])\n\t\t\tLogicGate(operator:nand_gate, idx:[1 8])\n\t\t\tLogicGate(operator:not_gate, idx:[2 6])\n\t\t\tLogicGate(operator:or_gate, idx:[ 1 12])\n\t\t\tLogicGate(operator:nand_gate, idx:[ 1 12])\n\t\t\tLogicGate(operator:nor_gate, idx:[4 3])\n\t)\n\tLayer(n_inputs:15, n_outputs:10, \n\t\t gates:\n\t\t\tLogicGate(operator:xor_gate, idx:[12 14])\n\t\t\tLogicGate(operator:xor_gate, idx:[ 4 14])\n\t\t\tLogicGate(operator:and_gate, idx:[1 4])\n\t\t\tLogicGate(operator:xor_gate, idx:[10  9])\n\t\t\tLogicGate(operator:and_gate, idx:[5 4])\n\t\t\tLogicGate(operator:and_gate, idx:[ 1 14])\n\t\t\tLogicGate(operator:xor_gate, idx:[14 11])\n\t\t\tLogicGate(operator:nor_gate, idx:[14 12])\n\t\t\tLogicGate(operator:or_gate, idx:[10 14])\n\t\t\tLogicGate(operator:and_gate, idx:[12  1])\n\t)\n\tLayer(n_inputs:10, n_outputs:5, \n\t\t gates:\n\t\t\tLogicGate(operator:nor_gate, idx:[0 5])\n\t\t\tLogicGate(operator:not_gate, idx:[9 4])\n\t\t\tLogicGate(operator:nand_gate, idx:[0 2])\n\t\t\tLogicGate(operator:nor_gate, idx:[2 4])\n\t\t\tLogicGate(operator:nor_gate, idx:[7 3])\n\t)\n)"
     },
     "execution_count": 2,
     "metadata": {},
     "output_type": "execute_result"
    }
   ],
   "source": [
    "logic_gate_network = LogicGateNetwork(input_size=20, output_size=5)\n",
    "\n",
    "logic_gate_network.add_layer(n_outputs=15)\n",
    "logic_gate_network.add_layer(n_outputs=10)\n",
    "logic_gate_network.add_layer(n_outputs=5)\n",
    "\n",
    "logic_gate_network"
   ],
   "metadata": {
    "collapsed": false
   }
  },
  {
   "cell_type": "markdown",
   "source": [
    "# Generate some random data"
   ],
   "metadata": {
    "collapsed": false
   }
  },
  {
   "cell_type": "code",
   "execution_count": 3,
   "outputs": [
    {
     "data": {
      "text/plain": "array([[0, 1, 0, ..., 1, 1, 1],\n       [1, 1, 1, ..., 1, 1, 1],\n       [0, 0, 0, ..., 1, 1, 1],\n       ...,\n       [0, 1, 0, ..., 1, 0, 1],\n       [1, 1, 0, ..., 1, 1, 0],\n       [0, 1, 1, ..., 1, 0, 1]], dtype=int8)"
     },
     "execution_count": 3,
     "metadata": {},
     "output_type": "execute_result"
    }
   ],
   "source": [
    "random_data = (np.random.random((10000, 20)) > 0.5).astype(np.byte)\n",
    "\n",
    "random_data"
   ],
   "metadata": {
    "collapsed": false
   }
  },
  {
   "cell_type": "markdown",
   "source": [
    "# Pass data through network"
   ],
   "metadata": {
    "collapsed": false
   }
  },
  {
   "cell_type": "code",
   "execution_count": 4,
   "outputs": [
    {
     "data": {
      "text/plain": "array([[0, 1, 1, 1, 0],\n       [0, 1, 1, 0, 0],\n       [1, 1, 1, 1, 0],\n       ...,\n       [0, 1, 1, 0, 0],\n       [0, 1, 1, 0, 1],\n       [0, 1, 1, 0, 1]], dtype=int8)"
     },
     "execution_count": 4,
     "metadata": {},
     "output_type": "execute_result"
    }
   ],
   "source": [
    "output = logic_gate_network.predict(random_data)\n",
    "\n",
    "output"
   ],
   "metadata": {
    "collapsed": false
   }
  }
 ],
 "metadata": {
  "kernelspec": {
   "display_name": "Python 3",
   "language": "python",
   "name": "python3"
  },
  "language_info": {
   "codemirror_mode": {
    "name": "ipython",
    "version": 2
   },
   "file_extension": ".py",
   "mimetype": "text/x-python",
   "name": "python",
   "nbconvert_exporter": "python",
   "pygments_lexer": "ipython2",
   "version": "2.7.6"
  }
 },
 "nbformat": 4,
 "nbformat_minor": 0
}
